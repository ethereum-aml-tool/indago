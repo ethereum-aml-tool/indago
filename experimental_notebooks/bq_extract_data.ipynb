{
 "cells": [
  {
   "cell_type": "code",
   "execution_count": 2,
   "metadata": {},
   "outputs": [
    {
     "name": "stdout",
     "output_type": "stream",
     "text": [
      "env: GOOGLE_APPLICATION_CREDENTIALS=C:/Users/maxar/OneDrive/Documents/Chalmers/ExJobb/Git/Blacklisting/google-auth.json\n",
      "csv file generated\n"
     ]
    }
   ],
   "source": [
    "%env GOOGLE_APPLICATION_CREDENTIALS=C:/Users/maxar/OneDrive/Documents/Chalmers/ExJobb/Git/Blacklisting/google-auth.json\n",
    "\n",
    "from google.cloud import bigquery\n",
    "import os\n",
    "\n",
    "#SERVICE_ACCOUNT_JSON = os.environ['GOOGLE_APPLICATION_CREDENTIALS']\n",
    "#client = bigquery.Client.from_sevice_account.json(SERVICE_ACCOUNT_JSON)\n",
    "client = bigquery.Client()\n",
    " \n",
    "\n",
    "query = ('SELECT * FROM `bigquery-public-data.crypto_ethereum.traces` WHERE DATE(block_timestamp) >= \"2022-03-01\"')\n",
    "df = client.query(query).to_dataframe()\n",
    "df.to_csv('../data/extracted_traces.csv', index=False,header=True)\n",
    "print('csv file generated')"
   ]
  }
 ],
 "metadata": {
  "interpreter": {
   "hash": "aa01887cd532bec9ca77215e92ed67b1d7161473f9ff681d38c11a5552e7a2fc"
  },
  "kernelspec": {
   "display_name": "Python 3.9.9 64-bit",
   "language": "python",
   "name": "python3"
  },
  "language_info": {
   "codemirror_mode": {
    "name": "ipython",
    "version": 3
   },
   "file_extension": ".py",
   "mimetype": "text/x-python",
   "name": "python",
   "nbconvert_exporter": "python",
   "pygments_lexer": "ipython3",
   "version": "3.9.9"
  },
  "orig_nbformat": 4
 },
 "nbformat": 4,
 "nbformat_minor": 2
}
