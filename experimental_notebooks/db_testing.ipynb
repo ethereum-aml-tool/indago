{
 "cells": [
  {
   "cell_type": "markdown",
   "metadata": {},
   "source": [
    "https://fastapi.tiangolo.com/tutorial/sql-databases/"
   ]
  },
  {
   "cell_type": "markdown",
   "metadata": {},
   "source": [
    "## database.py"
   ]
  },
  {
   "cell_type": "code",
   "execution_count": 1,
   "metadata": {},
   "outputs": [],
   "source": [
    "#%env POSTGRES_USERNAME=postgres\n",
    "#%env POSTGRES_PASSWORD=#\n",
    "\n",
    "import os\n",
    "from sqlalchemy import create_engine\n",
    "from sqlalchemy.orm import sessionmaker\n",
    "from sqlalchemy.ext.declarative import declarative_base\n",
    "\n",
    "USERNAME: str = os.environ['POSTGRES_USERNAME']\n",
    "PASSWORD: str = os.environ['POSTGRES_PASSWORD']\n",
    "HOST: str = 'localhost'\n",
    "PORT: int = 5432\n",
    "\n",
    "engine = create_engine(f'postgresql://{USERNAME}:{PASSWORD}@{HOST}:{PORT}/postgres')"
   ]
  },
  {
   "cell_type": "code",
   "execution_count": 2,
   "metadata": {},
   "outputs": [
    {
     "data": {
      "text/plain": [
       "<sqlalchemy.engine.base.Connection at 0x7f56caa2ee50>"
      ]
     },
     "execution_count": 2,
     "metadata": {},
     "output_type": "execute_result"
    }
   ],
   "source": [
    "SessionLocal = sessionmaker(autocommit=False, autoflush=False, bind=engine)\n",
    "Base = declarative_base()\n",
    "\n",
    "engine.connect()"
   ]
  },
  {
   "cell_type": "code",
   "execution_count": 15,
   "metadata": {},
   "outputs": [
    {
     "data": {
      "text/plain": [
       "[('0xd4b88df4d29f5cedd6857912842cff3b20c8cfa3', 10000000.0, 1),\n",
       " ('0xfd8610d20aa15b7b2e3be39b396a1bc3516c7144', 10000000.0, 1),\n",
       " ('0x07687e702b410fa43f4cb4af7fa097918ffd2730', 9999999.988587502, 1)]"
      ]
     },
     "execution_count": 15,
     "metadata": {},
     "output_type": "execute_result"
    }
   ],
   "source": [
    "import pandas as pd\n",
    "\n",
    "#engine.execute(\"DROP TABLE transactions;\")\n",
    "df = pd.read_csv('../data/blacklist_results/haircut.csv', chunksize=100000, usecols=['address', 'balance', 'taint'])\n",
    "for chunk in df:\n",
    "    chunk['balance'] = chunk.balance.apply(lambda x: int(x) / 10**18)\n",
    "    chunk.to_sql('haircut', engine, if_exists='append', index=False)\n",
    "engine.execute('SELECT * FROM haircut;').fetchmany(3)"
   ]
  },
  {
   "cell_type": "markdown",
   "metadata": {},
   "source": [
    "## models.py"
   ]
  },
  {
   "cell_type": "code",
   "execution_count": 4,
   "metadata": {},
   "outputs": [],
   "source": [
    "from sqlalchemy import Column, Integer, String, Float, DateTime, ForeignKey\n",
    "from sqlalchemy.orm import relationship\n",
    "\n",
    "class User(Base):\n",
    "    __tablename__ = 'users'\n",
    "\n",
    "    id = Column(Integer, primary_key=True, index=True)\n",
    "    name = Column(String(50), nullable=False)\n",
    "    email = Column(String(120), unique=True, nullable=False)\n",
    "\n",
    "    def __repr__(self):\n",
    "        return f'<User {self.name}>'\n",
    "\n",
    "class Item(Base):\n",
    "    __tablename__ = 'items'\n",
    "\n",
    "    id = Column(Integer, primary_key=True, index=True)\n",
    "    name = Column(String(50), nullable=False)\n",
    "    description = Column(String(250))\n",
    "    price = Column(Float, nullable=False)\n",
    "\n",
    "    def __repr__(self):\n",
    "        return f'<Item {self.name}>'"
   ]
  }
 ],
 "metadata": {
  "interpreter": {
   "hash": "aa01887cd532bec9ca77215e92ed67b1d7161473f9ff681d38c11a5552e7a2fc"
  },
  "kernelspec": {
   "display_name": "Python 3.9.9 64-bit",
   "language": "python",
   "name": "python3"
  },
  "language_info": {
   "codemirror_mode": {
    "name": "ipython",
    "version": 3
   },
   "file_extension": ".py",
   "mimetype": "text/x-python",
   "name": "python",
   "nbconvert_exporter": "python",
   "pygments_lexer": "ipython3",
   "version": "3.9.7"
  },
  "orig_nbformat": 4
 },
 "nbformat": 4,
 "nbformat_minor": 2
}
