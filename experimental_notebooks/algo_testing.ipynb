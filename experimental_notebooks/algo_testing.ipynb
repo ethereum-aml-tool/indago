{
 "cells": [
  {
   "cell_type": "code",
   "execution_count": 1,
   "metadata": {},
   "outputs": [],
   "source": [
    "import os\n",
    "\n",
    "assert len(os.environ['GOOGLE_APPLICATION_CREDENTIALS']) > 0, \\\n",
    "            \"Set GOOGLE_APPLICATION_CREDENTIALS prior to use, see README.md\"\n",
    "assert len(os.environ['PYTHONPATH']) > 0, \\\n",
    "            \"Set PYTHONPATH to include this repository prior to use, see README.md\""
   ]
  },
  {
   "cell_type": "code",
   "execution_count": null,
   "metadata": {},
   "outputs": [],
   "source": [
    "from utils.storage.base import EthereumStorage\n",
    "from utils.storage.google_cloud_storage import GoogleCloudStorage\n",
    "\n",
    "storage: EthereumStorage = GoogleCloudStorage()\n",
    "storage.download('eth-aml-data', 'mini-traces.csv', './data/')\n",
    "storage.download('eth-aml-data', 'sorted/blocks-sorted.csv', './data/')\n",
    "storage.download('eth-aml-data', 'known-addresses.csv', './data/')\n",
    "storage.download('eth-aml-data', 'tornado.csv', './data/')"
   ]
  },
  {
   "cell_type": "code",
   "execution_count": 1,
   "metadata": {},
   "outputs": [
    {
     "name": "stdout",
     "output_type": "stream",
     "text": [
      "fetching exchanges...\n",
      "found 335 exchanges.\n",
      "found 18926 addresses to ignore.\n",
      "found 5204 addresses flagged as illegitimate.\n",
      "fetching miners...\n",
      "found 5586 miners.\n"
     ]
    }
   ],
   "source": [
    "import pandas as pd\n",
    "from utils.loader import DataLoader, DataframeLoader\n",
    "\n",
    "BLOCK_CSV = f'/media/ponbac/BigHDD/ethereum/blocks-sorted.csv'\n",
    "KNOWN_ADDRESSES_CSV = f'/media/ponbac/BigHDD/ethereum/known-addresses.csv'\n",
    "CACHE_DIR = f'/media/ponbac/BigHDD/ethereum/cache'\n",
    "TRACES_CSV = f'/media/ponbac/GigaHDD/ethereum/traces-sorted.csv'\n",
    "TRANSACTIONS_CSV = f'/media/ponbac/GigaHDD/ethereum/transactions-sorted.csv'\n",
    "TORNADO_CSV = f'/media/ponbac/BigHDD/ethereum/tornado.csv'\n",
    "loader: DataLoader = DataframeLoader(block_csv=BLOCK_CSV, known_addresses_csv=KNOWN_ADDRESSES_CSV,\n",
    "                                     cache_dir=CACHE_DIR, traces_csv=TRACES_CSV, transaction_csv=TRANSACTIONS_CSV, tornado_csv=TORNADO_CSV)\n"
   ]
  },
  {
   "cell_type": "code",
   "execution_count": 2,
   "metadata": {},
   "outputs": [
    {
     "name": "stderr",
     "output_type": "stream",
     "text": [
      " 90%|█████████ | 904563/1000000 [09:00<01:14, 1282.75it/s]"
     ]
    },
    {
     "name": "stdout",
     "output_type": "stream",
     "text": [
      "\n",
      "Reached end block [1000000], quitting.\n"
     ]
    },
    {
     "name": "stderr",
     "output_type": "stream",
     "text": [
      "100%|██████████| 1000000/1000000 [10:27<00:00, 1592.47it/s]\n"
     ]
    },
    {
     "name": "stdout",
     "output_type": "stream",
     "text": [
      "Finished processing 1000000 blocks.\n",
      "{'n_none_transactions': 14, 'n_forced': 4320}\n"
     ]
    }
   ],
   "source": [
    "from src.blacklist.poison_blacklister import Poison\n",
    "from src.blacklist.haircut_blacklister import Haircut\n",
    "from src.blacklist.seniority_blacklister import Seniority\n",
    "from src.blacklist.advanced_fifo_blacklister import AdvancedFIFO\n",
    "from src.blacklist.fifo_blacklister import FIFO\n",
    "\n",
    "# os.makedirs('./results', exist_ok=True)\n",
    "\n",
    "blacklist: pd.Series = loader.get_flagged().address\n",
    "#algo = Poison(loader, blacklist, '/media/ponbac/BigHDD/ethereum/blacklist/testing/')\n",
    "#algo = Haircut(loader, blacklist, '/media/ponbac/BigHDD/ethereum/blacklist/testing/')\n",
    "#algo = Seniority(loader, blacklist, '/media/ponbac/BigHDD/ethereum/blacklist/testing/')\n",
    "#algo = AdvancedFIFO(loader, blacklist, '/media/ponbac/BigHDD/ethereum/blacklist/testing/')\n",
    "algo = FIFO(loader, blacklist, '/media/ponbac/BigHDD/ethereum/blacklist/testing/')\n",
    "algo.make_blacklist(end_block=1000000)"
   ]
  }
 ],
 "metadata": {
  "interpreter": {
   "hash": "916dbcbb3f70747c44a77c7bcd40155683ae19c65e1c03b4aa3499c5328201f1"
  },
  "kernelspec": {
   "display_name": "Python 3.9.7 64-bit",
   "language": "python",
   "name": "python3"
  },
  "language_info": {
   "codemirror_mode": {
    "name": "ipython",
    "version": 3
   },
   "file_extension": ".py",
   "mimetype": "text/x-python",
   "name": "python",
   "nbconvert_exporter": "python",
   "pygments_lexer": "ipython3",
   "version": "3.10.4"
  },
  "orig_nbformat": 4
 },
 "nbformat": 4,
 "nbformat_minor": 2
}
