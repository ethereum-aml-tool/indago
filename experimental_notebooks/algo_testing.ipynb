{
 "cells": [
  {
   "cell_type": "code",
   "execution_count": null,
   "metadata": {},
   "outputs": [],
   "source": [
    "import os\n",
    "\n",
    "assert len(os.environ['GOOGLE_APPLICATION_CREDENTIALS']) > 0, \\\n",
    "            \"Set GOOGLE_APPLICATION_CREDENTIALS prior to use, see README.md\"\n",
    "assert len(os.environ['PYTHONPATH']) > 0, \\\n",
    "            \"Set PYTHONPATH to include this repository prior to use, see README.md\""
   ]
  },
  {
   "cell_type": "code",
   "execution_count": null,
   "metadata": {},
   "outputs": [],
   "source": [
    "from utils.storage.base import EthereumStorage\n",
    "from utils.storage.google_cloud_storage import GoogleCloudStorage\n",
    "\n",
    "storage: EthereumStorage = GoogleCloudStorage()\n",
    "storage.download('eth-aml-data', 'mini-traces.csv', './data/')\n",
    "storage.download('eth-aml-data', 'sorted/blocks-sorted.csv', './data/')\n",
    "storage.download('eth-aml-data', 'known-addresses.csv', './data/')\n",
    "storage.download('eth-aml-data', 'tornado.csv', './data/')"
   ]
  },
  {
   "cell_type": "code",
   "execution_count": null,
   "metadata": {},
   "outputs": [],
   "source": [
    "import pandas as pd\n",
    "from utils.loader import DataLoader, DataframeLoader\n",
    "\n",
    "BLOCK_CSV = f'./data/blocks-sorted.csv'\n",
    "KNOWN_ADDRESSES_CSV = f'./data/known-addresses.csv'\n",
    "CACHE_DIR = f'./data/cache'\n",
    "TRACES_CSV = f'./data/mini-traces.csv'\n",
    "TORNADO_CSV = f'./data/tornado.csv'\n",
    "loader: DataLoader = DataframeLoader(block_csv=BLOCK_CSV, known_addresses_csv=KNOWN_ADDRESSES_CSV,\n",
    "                                      cache_dir=CACHE_DIR, traces_csv=TRACES_CSV, tornado_csv=TORNADO_CSV)"
   ]
  },
  {
   "cell_type": "code",
   "execution_count": null,
   "metadata": {},
   "outputs": [],
   "source": [
    "from src.blacklist.poison_blacklister import Poison\n",
    "from src.blacklist.haircut_blacklister import Haircut\n",
    "from src.blacklist.seniority_blacklister import Seniority\n",
    "from src.blacklist.advanced_fifo_blacklister import AdvancedFIFO\n",
    "\n",
    "os.makedirs('./results', exist_ok=True)\n",
    "\n",
    "blacklist: pd.Series = loader.get_flagged().address\n",
    "#algo = Poison(loader, blacklist, '/media/ponbac/BigHDD/ethereum/blacklist/testing/')\n",
    "#algo = Haircut(loader, blacklist, '/media/ponbac/BigHDD/ethereum/blacklist/testing/')\n",
    "#algo = Seniority(loader, blacklist, '/media/ponbac/BigHDD/ethereum/blacklist/testing/')\n",
    "algo = AdvancedFIFO(loader, blacklist, './results/')\n",
    "algo.make_blacklist(end_block=2000000)"
   ]
  }
 ],
 "metadata": {
  "interpreter": {
   "hash": "916dbcbb3f70747c44a77c7bcd40155683ae19c65e1c03b4aa3499c5328201f1"
  },
  "kernelspec": {
   "display_name": "Python 3.9.7 64-bit",
   "language": "python",
   "name": "python3"
  },
  "language_info": {
   "codemirror_mode": {
    "name": "ipython",
    "version": 3
   },
   "file_extension": ".py",
   "mimetype": "text/x-python",
   "name": "python",
   "nbconvert_exporter": "python",
   "pygments_lexer": "ipython3",
   "version": "3.10.4"
  },
  "orig_nbformat": 4
 },
 "nbformat": 4,
 "nbformat_minor": 2
}
