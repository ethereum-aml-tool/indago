{
 "cells": [
  {
   "cell_type": "code",
   "execution_count": null,
   "metadata": {},
   "outputs": [],
   "source": [
    "import os\n",
    "\n",
    "assert len(os.environ['GOOGLE_APPLICATION_CREDENTIALS']) > 0, \\\n",
    "            \"Set GOOGLE_APPLICATION_CREDENTIALS prior to use, see README.md\"\n",
    "assert len(os.environ['PYTHONPATH']) > 0, \\\n",
    "            \"Set PYTHONPATH to include this repository prior to use, see README.md\""
   ]
  },
  {
   "cell_type": "code",
   "execution_count": 15,
   "metadata": {},
   "outputs": [
    {
     "name": "stdout",
     "output_type": "stream",
     "text": [
      "nan\n"
     ]
    },
    {
     "name": "stderr",
     "output_type": "stream",
     "text": [
      "/tmp/ipykernel_114738/2340755654.py:4: DtypeWarning: Columns (2) have mixed types. Specify dtype option on import or set low_memory=False.\n",
      "  for traces in traces_iter:\n"
     ]
    },
    {
     "ename": "TypeError",
     "evalue": "object of type 'float' has no len()",
     "output_type": "error",
     "traceback": [
      "\u001b[0;31m---------------------------------------------------------------------------\u001b[0m",
      "\u001b[0;31mTypeError\u001b[0m                                 Traceback (most recent call last)",
      "\u001b[1;32m/home/ponbac/Development/Masters/blacklisting/experimental_notebooks/algo_testing.ipynb Cell 2\u001b[0m in \u001b[0;36m<cell line: 4>\u001b[0;34m()\u001b[0m\n\u001b[1;32m      <a href='vscode-notebook-cell:/home/ponbac/Development/Masters/blacklisting/experimental_notebooks/algo_testing.ipynb#W5sZmlsZQ%3D%3D?line=5'>6</a>\u001b[0m \u001b[39mfor\u001b[39;00m trace \u001b[39min\u001b[39;00m traces\u001b[39m.\u001b[39mitertuples():\n\u001b[1;32m      <a href='vscode-notebook-cell:/home/ponbac/Development/Masters/blacklisting/experimental_notebooks/algo_testing.ipynb#W5sZmlsZQ%3D%3D?line=6'>7</a>\u001b[0m     \u001b[39mprint\u001b[39m(trace[\u001b[39m3\u001b[39m])\n\u001b[0;32m----> <a href='vscode-notebook-cell:/home/ponbac/Development/Masters/blacklisting/experimental_notebooks/algo_testing.ipynb#W5sZmlsZQ%3D%3D?line=7'>8</a>\u001b[0m     \u001b[39mif\u001b[39;00m \u001b[39mlen\u001b[39;49m(trace[\u001b[39m3\u001b[39;49m]) \u001b[39m<\u001b[39m \u001b[39m10\u001b[39m:\n\u001b[1;32m      <a href='vscode-notebook-cell:/home/ponbac/Development/Masters/blacklisting/experimental_notebooks/algo_testing.ipynb#W5sZmlsZQ%3D%3D?line=8'>9</a>\u001b[0m         \u001b[39mprint\u001b[39m(\u001b[39mf\u001b[39m\u001b[39m'\u001b[39m\u001b[39mfrom: \u001b[39m\u001b[39m{\u001b[39;00mtrace\u001b[39m.\u001b[39mfrom_address\u001b[39m}\u001b[39;00m\u001b[39m, to: \u001b[39m\u001b[39m{\u001b[39;00mtrace\u001b[39m.\u001b[39mto_address\u001b[39m}\u001b[39;00m\u001b[39m'\u001b[39m)\n",
      "\u001b[0;31mTypeError\u001b[0m: object of type 'float' has no len()"
     ]
    }
   ],
   "source": [
    "import pandas as pd\n",
    "mini_traces_path = '/media/ponbac/GigaHDD/ethereum/mini-traces.csv'\n",
    "traces_iter = pd.read_csv(mini_traces_path, chunksize=1000000, index_col=0)\n",
    "for traces in traces_iter:\n",
    "    traces: pd.DataFrame = traces\n",
    "    for trace in traces.itertuples():\n",
    "        print(trace[3])\n",
    "        if len(str(trace[3])) < 10:\n",
    "            print(f'from: {trace.from_address}, to: {trace.to_address}')"
   ]
  },
  {
   "cell_type": "code",
   "execution_count": null,
   "metadata": {},
   "outputs": [],
   "source": [
    "from utils.storage.base import EthereumStorage\n",
    "from utils.storage.google_cloud_storage import GoogleCloudStorage\n",
    "\n",
    "storage: EthereumStorage = GoogleCloudStorage()\n",
    "storage.download('eth-aml-data', 'mini-traces.csv', './data/')\n",
    "storage.download('eth-aml-data', 'sorted/blocks-sorted.csv', './data/')\n",
    "storage.download('eth-aml-data', 'known-addresses.csv', './data/')\n",
    "storage.download('eth-aml-data', 'tornado.csv', './data/')"
   ]
  },
  {
   "cell_type": "code",
   "execution_count": null,
   "metadata": {},
   "outputs": [],
   "source": [
    "import pandas as pd\n",
    "from utils.loader import DataLoader, DataframeLoader\n",
    "\n",
    "BLOCK_CSV = f'./data/blocks-sorted.csv'\n",
    "KNOWN_ADDRESSES_CSV = f'./data/known-addresses.csv'\n",
    "CACHE_DIR = f'./data/cache'\n",
    "TRACES_CSV = f'./data/mini-traces.csv'\n",
    "TORNADO_CSV = f'./data/tornado.csv'\n",
    "loader: DataLoader = DataframeLoader(block_csv=BLOCK_CSV, known_addresses_csv=KNOWN_ADDRESSES_CSV,\n",
    "                                      cache_dir=CACHE_DIR, traces_csv=TRACES_CSV, tornado_csv=TORNADO_CSV)"
   ]
  },
  {
   "cell_type": "code",
   "execution_count": null,
   "metadata": {},
   "outputs": [],
   "source": [
    "from src.blacklist.poison_blacklister import Poison\n",
    "from src.blacklist.haircut_blacklister import Haircut\n",
    "from src.blacklist.seniority_blacklister import Seniority\n",
    "from src.blacklist.advanced_fifo_blacklister import AdvancedFIFO\n",
    "\n",
    "os.makedirs('./results', exist_ok=True)\n",
    "\n",
    "blacklist: pd.Series = loader.get_flagged().address\n",
    "#algo = Poison(loader, blacklist, '/media/ponbac/BigHDD/ethereum/blacklist/testing/')\n",
    "#algo = Haircut(loader, blacklist, '/media/ponbac/BigHDD/ethereum/blacklist/testing/')\n",
    "#algo = Seniority(loader, blacklist, '/media/ponbac/BigHDD/ethereum/blacklist/testing/')\n",
    "algo = AdvancedFIFO(loader, blacklist, './results/')\n",
    "algo.make_blacklist(end_block=2000000)"
   ]
  }
 ],
 "metadata": {
  "interpreter": {
   "hash": "916dbcbb3f70747c44a77c7bcd40155683ae19c65e1c03b4aa3499c5328201f1"
  },
  "kernelspec": {
   "display_name": "Python 3.9.7 64-bit",
   "language": "python",
   "name": "python3"
  },
  "language_info": {
   "codemirror_mode": {
    "name": "ipython",
    "version": 3
   },
   "file_extension": ".py",
   "mimetype": "text/x-python",
   "name": "python",
   "nbconvert_exporter": "python",
   "pygments_lexer": "ipython3",
   "version": "3.10.4"
  },
  "orig_nbformat": 4
 },
 "nbformat": 4,
 "nbformat_minor": 2
}
