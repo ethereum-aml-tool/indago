{
 "cells": [
  {
   "cell_type": "code",
   "execution_count": 4,
   "metadata": {},
   "outputs": [],
   "source": [
    "import pandas as pd\n",
    "\n",
    "df: pd.DataFrame = pd.read_csv('../data/transactions.csv')\n",
    "df_parquet: pd.DataFrame = pd.read_parquet('../data/transactions.parquet')"
   ]
  },
  {
   "cell_type": "code",
   "execution_count": 5,
   "metadata": {},
   "outputs": [
    {
     "name": "stderr",
     "output_type": "stream",
     "text": [
      "100%|██████████| 5103881/5103881 [03:38<00:00, 23396.80it/s]\n",
      "100%|██████████| 5103881/5103881 [03:25<00:00, 24813.31it/s]\n"
     ]
    }
   ],
   "source": [
    "from tqdm import tqdm\n",
    "\n",
    "index_to_address = {}\n",
    "address_to_index = {}\n",
    "\n",
    "def compress_df(df: pd.DataFrame):\n",
    "    \"\"\"\n",
    "    Replaces 'from_address' and 'to_address' with a unique integer,\n",
    "    reducing the size of the dataframe.\n",
    "    \"\"\"\n",
    "    pbar = tqdm(total=len(df))\n",
    "    counter = 0\n",
    "    for index, row in df.iterrows():\n",
    "        if address_to_index.get(row['from_address']) is None and address_to_index.get(row['from_address']) == address_to_index.get(row['to_address']):\n",
    "            index_to_address[counter] = row['from_address']\n",
    "            address_to_index[row['from_address']] = counter\n",
    "            index_to_address[counter] = row['to_address']\n",
    "            address_to_index[row['to_address']] = counter\n",
    "            counter += 1\n",
    "        else:\n",
    "            if address_to_index.get(row['from_address']) is None:\n",
    "                index_to_address[counter] = row['from_address']\n",
    "                address_to_index[row['from_address']] = counter\n",
    "                counter += 1\n",
    "            if address_to_index.get(row['to_address']) is None:\n",
    "                index_to_address[counter] = row['to_address']\n",
    "                address_to_index[row['to_address']] = counter\n",
    "                counter += 1\n",
    "        df.at[index, 'from_address'] = address_to_index[row['from_address']]\n",
    "        df.at[index, 'to_address'] = address_to_index[row['to_address']]\n",
    "        pbar.update()\n",
    "\n",
    "def decompress_df(df: pd.DataFrame):\n",
    "    \"\"\"\n",
    "    Replaces unique integer with 'from_address' and 'to_address'.\n",
    "    \"\"\"\n",
    "    for index, row in df.iterrows():\n",
    "        df.at[index, 'from_address'] = index_to_address[row['from_address']]\n",
    "        df.at[index, 'to_address'] = index_to_address[row['to_address']]\n",
    "\n",
    "\n",
    "compress_df(df)\n",
    "compress_df(df_parquet)\n",
    "#df.to_csv('../data/transactions.csv', index=False,header=True)"
   ]
  }
 ],
 "metadata": {
  "interpreter": {
   "hash": "aa01887cd532bec9ca77215e92ed67b1d7161473f9ff681d38c11a5552e7a2fc"
  },
  "kernelspec": {
   "display_name": "Python 3.9.9 64-bit",
   "language": "python",
   "name": "python3"
  },
  "language_info": {
   "codemirror_mode": {
    "name": "ipython",
    "version": 3
   },
   "file_extension": ".py",
   "mimetype": "text/x-python",
   "name": "python",
   "nbconvert_exporter": "python",
   "pygments_lexer": "ipython3",
   "version": "3.9.9"
  },
  "orig_nbformat": 4
 },
 "nbformat": 4,
 "nbformat_minor": 2
}
