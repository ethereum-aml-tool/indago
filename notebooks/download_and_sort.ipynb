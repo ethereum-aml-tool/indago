{
 "cells": [
  {
   "cell_type": "code",
   "execution_count": 3,
   "metadata": {},
   "outputs": [],
   "source": [
    "import os\n",
    "import sys\n",
    "\n",
    "curr_dir = %pwd\n",
    "\n",
    "root_path = os.path.dirname(curr_dir)\n",
    "if root_path not in sys.path:\n",
    "    print(f\"Adding {root_path} to PYTHONPATH\")\n",
    "    sys.path.append(root_path)\n",
    "\n",
    "assert len(os.environ['PYTHONPATH']) > 0, \\\n",
    "            \"Set PYTHONPATH to include this repository prior to use, see README.md\"\n",
    "assert len(os.environ['GOOGLE_APPLICATION_CREDENTIALS']) > 0, \\\n",
    "            \"Set GOOGLE_APPLICATION_CREDENTIALS prior to use, see README.md\""
   ]
  },
  {
   "cell_type": "markdown",
   "metadata": {},
   "source": [
    "# Complete Data Proccessing Pipeline"
   ]
  },
  {
   "cell_type": "code",
   "execution_count": 4,
   "metadata": {},
   "outputs": [],
   "source": [
    "from typing import Optional, List\n",
    "\n",
    "BQ_TABLE_NAME: str = 'traces'\n",
    "BUCKET_NAME: str = f'eth-aml-data'\n",
    "DOWNLOAD_DIR: str = f'/media/ponbac/Biggy1/ethereum/{BQ_TABLE_NAME}'\n",
    "COLUMNS_TO_SAVE: Optional[List[str]] = ['block_number', 'from_address', 'to_address', 'value'] # 'None' = Download all columns\n",
    "MAX_BLOBS: Optional[int] = 2 # 'None' = Download all blobs to local storage."
   ]
  },
  {
   "cell_type": "markdown",
   "metadata": {},
   "source": [
    "### BiqQuery Ethereum Table &rarr; Google Cloud Storage Bucket"
   ]
  },
  {
   "cell_type": "code",
   "execution_count": 5,
   "metadata": {},
   "outputs": [
    {
     "name": "stdout",
     "output_type": "stream",
     "text": [
      "['bigquery-public-data.crypto_ethereum.amended_tokens',\n",
      " 'bigquery-public-data.crypto_ethereum.balances',\n",
      " 'bigquery-public-data.crypto_ethereum.blocks',\n",
      " 'bigquery-public-data.crypto_ethereum.contracts',\n",
      " 'bigquery-public-data.crypto_ethereum.load_metadata',\n",
      " 'bigquery-public-data.crypto_ethereum.logs',\n",
      " 'bigquery-public-data.crypto_ethereum.sessions',\n",
      " 'bigquery-public-data.crypto_ethereum.token_transfers',\n",
      " 'bigquery-public-data.crypto_ethereum.tokens',\n",
      " 'bigquery-public-data.crypto_ethereum.traces',\n",
      " 'bigquery-public-data.crypto_ethereum.transactions']\n"
     ]
    }
   ],
   "source": [
    "from utils.bigquery import EthereumBigQuery\n",
    "from pprint import pprint\n",
    "\n",
    "query: EthereumBigQuery = EthereumBigQuery()\n",
    "\n",
    "# Tables available for download:\n",
    "pprint(query.get_table_names())"
   ]
  },
  {
   "cell_type": "code",
   "execution_count": null,
   "metadata": {},
   "outputs": [],
   "source": [
    "# Possible to export to json (as_json=True) or parquet (as_parquet=True), csv by default.\n",
    "query.export_to_bucket(BQ_TABLE_NAME, f'{BUCKET_NAME}/{BQ_TABLE_NAME}')"
   ]
  },
  {
   "cell_type": "markdown",
   "metadata": {},
   "source": [
    "### Google Cloud Storage Bucket &rarr; Local Storage"
   ]
  },
  {
   "cell_type": "code",
   "execution_count": null,
   "metadata": {},
   "outputs": [],
   "source": [
    "from utils.storage.base import EthereumStorage\n",
    "from utils.storage.google_cloud_storage import GoogleCloudStorage\n",
    "\n",
    "storage: EthereumStorage = GoogleCloudStorage()"
   ]
  },
  {
   "cell_type": "code",
   "execution_count": null,
   "metadata": {},
   "outputs": [],
   "source": [
    "storage.download(BUCKET_NAME, f'{BQ_TABLE_NAME}/', DOWNLOAD_DIR, MAX_BLOBS, use_cols=COLUMNS_TO_SAVE)"
   ]
  },
  {
   "cell_type": "markdown",
   "metadata": {},
   "source": [
    "### Sort & Merge Downloaded Files\n",
    "Sorted and merged csv will be inside ```DOWNLOAD_DIR/processed/```"
   ]
  },
  {
   "cell_type": "code",
   "execution_count": null,
   "metadata": {},
   "outputs": [],
   "source": [
    "import scripts.sort_big_csv as sort_big_csv\n",
    "import argparse\n",
    "\n",
    "#args = argparse.Namespace(csv_dir=DOWNLOAD_DIR, merge_only=False, sort_only=False, sort_column='block_number', out_filename=f'{BQ_TABLE_NAME}-sorted.csv')\n",
    "args = argparse.Namespace(csv_dir=DOWNLOAD_DIR,\n",
    "    merge_only=False,\n",
    "    sort_only=False,\n",
    "    sort_columns=['block_number','transaction_index'],\n",
    "    out_filename=f'{BQ_TABLE_NAME}-sorted.csv')\n",
    "#,'trace_address'\n",
    "sort_big_csv.main(args)"
   ]
  }
 ],
 "metadata": {
  "kernelspec": {
   "display_name": "Python 3.10.6 64-bit",
   "language": "python",
   "name": "python3"
  },
  "language_info": {
   "codemirror_mode": {
    "name": "ipython",
    "version": 3
   },
   "file_extension": ".py",
   "mimetype": "text/x-python",
   "name": "python",
   "nbconvert_exporter": "python",
   "pygments_lexer": "ipython3",
   "version": "3.10.12"
  },
  "orig_nbformat": 4,
  "vscode": {
   "interpreter": {
    "hash": "369f2c481f4da34e4445cda3fffd2e751bd1c4d706f27375911949ba6bb62e1c"
   }
  }
 },
 "nbformat": 4,
 "nbformat_minor": 2
}
