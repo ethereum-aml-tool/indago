{
 "cells": [
  {
   "cell_type": "code",
   "execution_count": 20,
   "metadata": {},
   "outputs": [],
   "source": [
    "import pandas as pd\n",
    "import numpy as np\n",
    "import seaborn as sns\n",
    "import matplotlib.pyplot as plt\n",
    "from tqdm import tqdm\n",
    "from pprint import pprint\n",
    "\n",
    "# sen_df: pd.DataFrame = pd.read_csv('/media/ponbac/BigHDD/ethereum/blacklist/seniority/seniority-tornado-result.csv', index_col=0)\n",
    "# poison_df: pd.DataFrame = pd.read_csv('/media/ponbac/BigHDD/ethereum/blacklist/poison/poison-tornado-result.csv', index_col=0)\n",
    "# haircut_df: pd.DataFrame = pd.read_csv('/media/ponbac/BigHDD/ethereum/blacklist/haircut/haircut-tornado-result.csv', index_col=0)\n",
    "# fifo_df: pd.DataFrame = pd.read_csv('/media/ponbac/BigHDD/ethereum/blacklist/fifo/fifo-tornado-result.csv', index_col=0)"
   ]
  },
  {
   "cell_type": "markdown",
   "metadata": {},
   "source": [
    "## SQL Setup"
   ]
  },
  {
   "cell_type": "code",
   "execution_count": 21,
   "metadata": {},
   "outputs": [],
   "source": [
    "from sqlalchemy.orm import Session\n",
    "from db.sql import crud, schemas\n",
    "from db.sql.database import SessionLocal\n",
    "\n",
    "def get_db():\n",
    "    db = SessionLocal()\n",
    "    return db"
   ]
  },
  {
   "cell_type": "markdown",
   "metadata": {},
   "source": [
    "## Mongo Setup"
   ]
  },
  {
   "cell_type": "code",
   "execution_count": 22,
   "metadata": {},
   "outputs": [],
   "source": [
    "from db.mongo.database import IndagoSession\n",
    "from db.mongo.schemas import DARAddressMapping, DARGraph\n",
    "\n",
    "# MONGO\n",
    "db = IndagoSession\n",
    "dar_collection = db['dar']\n",
    "dar_map_collection = db['dar_map']\n",
    "\n",
    "def is_flagged(address: str) -> bool:\n",
    "    \"\"\"\n",
    "    Check if an address is flagged in the blacklist.\n",
    "\n",
    "    TODO: Should not only check seniority, but some kind of combined blacklisting mechanism.\n",
    "    \"\"\"\n",
    "    db = SessionLocal()\n",
    "    tainted = crud.get_seniority(db, address=address)\n",
    "    db.close()\n",
    "\n",
    "    return True if tainted is not None else False\n",
    "\n",
    "async def fetch_cluster(address: str) -> DARGraph:\n",
    "    address = address.lower()\n",
    "    cluster_id: int = None\n",
    "    if (id := await dar_map_collection.find_one({\"_id\": address})) is not None:\n",
    "        cluster_id = id[\"cluster_id\"]\n",
    "    else:\n",
    "        print(f\"Graph for {address} not found\")\n",
    "        return None\n",
    "    if (graph := await dar_collection.find_one({\"_id\": cluster_id})) is not None:\n",
    "        # TODO: Should be done somewhere else, this is not a good place for it\n",
    "\n",
    "        # Flags the non-exchange addresses if they are in the blacklist\n",
    "        non_exchange_nodes = []\n",
    "        exchange_nodes = []\n",
    "        for edge in graph['edges']:\n",
    "            non_exchange_nodes.append(graph['nodes'][edge[0]])\n",
    "            exchange_nodes.append(graph['nodes'][edge[1]])\n",
    "        non_exchange_nodes = set(non_exchange_nodes)\n",
    "        exchange_nodes = set(exchange_nodes)\n",
    "        \n",
    "        checked_nodes = []\n",
    "        for node in non_exchange_nodes:\n",
    "            if is_flagged(node):\n",
    "                checked_nodes.append({\"address\": node, \"flagged\": True})\n",
    "            else:\n",
    "                checked_nodes.append({\"address\": node, \"flagged\": False})\n",
    "        for node in exchange_nodes:\n",
    "            checked_nodes.append({\"address\": node, \"flagged\": False})\n",
    "\n",
    "        graph['nodes'] = checked_nodes\n",
    "        # pprint(graph['nodes'])\n",
    "\n",
    "        # Converts the edge-objects to a dict instead of a simple array\n",
    "        parsed_edges = []\n",
    "        for edge in graph[\"edges\"]:\n",
    "            parsed_edges.append({\"from\": edge[0], \"to\": edge[1]})\n",
    "        graph[\"edges\"] = parsed_edges\n",
    "\n",
    "        return graph\n",
    "    print(f\"Graph {id} not found\")\n",
    "    return None"
   ]
  },
  {
   "cell_type": "markdown",
   "metadata": {},
   "source": [
    "# Fetch results"
   ]
  },
  {
   "cell_type": "code",
   "execution_count": 23,
   "metadata": {},
   "outputs": [],
   "source": [
    "def wei_to_eth(wei: int) -> float:\n",
    "    return wei / 10**18\n",
    "\n",
    "def get_combined_blacklisting_data(address: str):\n",
    "    db = SessionLocal()\n",
    "    sen = crud.get_seniority(db, address=address)\n",
    "    poison = crud.get_poison(db, address=address)\n",
    "    haircut = crud.get_haircut(db, address=address)\n",
    "    fifo = crud.get_fifo(db, address=address)\n",
    "    db.close()\n",
    "\n",
    "    return {\n",
    "        \"address\": address,\n",
    "        \"seniority\": wei_to_eth(sen.tainted_balance) if sen is not None else 0,\n",
    "        \"poison\": True if poison is not None else False,\n",
    "        \"haircut\": wei_to_eth(haircut.tainted_balance) if haircut is not None else 0,\n",
    "        \"fifo\": wei_to_eth(fifo.tainted_balance) if fifo is not None else 0,\n",
    "    }\n",
    "\n",
    "async def get_cluster_with_blacklisting_data(address: str):\n",
    "    cluster = await fetch_cluster(address)\n",
    "    if cluster is None:\n",
    "        return None\n",
    "    cluster['blacklisting'] = [get_combined_blacklisting_data(node['address']) for node in cluster['nodes']]\n",
    "    return cluster"
   ]
  },
  {
   "cell_type": "code",
   "execution_count": 25,
   "metadata": {},
   "outputs": [
    {
     "name": "stdout",
     "output_type": "stream",
     "text": [
      "{'_id': 34,\n",
      " 'blacklisting': [{'address': '0x2f86e77d4e577d32f5d1d51289f80cfc95b4f460',\n",
      "                   'fifo': 0,\n",
      "                   'haircut': 0,\n",
      "                   'poison': False,\n",
      "                   'seniority': 0},\n",
      "                  {'address': '0x5a6e548d1b18f3826dc154df8ff87be0f49ba1f9',\n",
      "                   'fifo': 0,\n",
      "                   'haircut': 0,\n",
      "                   'poison': False,\n",
      "                   'seniority': 0},\n",
      "                  {'address': '0xb16a310f518291a2661719a2b099a01b904f2d25',\n",
      "                   'fifo': 0,\n",
      "                   'haircut': 0,\n",
      "                   'poison': False,\n",
      "                   'seniority': 0},\n",
      "                  {'address': '0x16e702864c5ecb63fff26b7417bbe34a1702497f',\n",
      "                   'fifo': 0,\n",
      "                   'haircut': 0,\n",
      "                   'poison': False,\n",
      "                   'seniority': 8.425725699201642},\n",
      "                  {'address': '0x5a891155f50e42074374c739baadf7df2651153a',\n",
      "                   'fifo': 0,\n",
      "                   'haircut': 0,\n",
      "                   'poison': False,\n",
      "                   'seniority': 0},\n",
      "                  {'address': '0x93db80284c8e4d2b0ee8586de2d072208c075145',\n",
      "                   'fifo': 0,\n",
      "                   'haircut': 0,\n",
      "                   'poison': False,\n",
      "                   'seniority': 0},\n",
      "                  {'address': '0x7f802cd3882bff541234a8863239cada55a915ba',\n",
      "                   'fifo': 0,\n",
      "                   'haircut': 0,\n",
      "                   'poison': False,\n",
      "                   'seniority': 0},\n",
      "                  {'address': '0xfe6287c91df3cca5ee077df41556bf5c3ac2d63f',\n",
      "                   'fifo': 0,\n",
      "                   'haircut': 0,\n",
      "                   'poison': False,\n",
      "                   'seniority': 0},\n",
      "                  {'address': '0xf2df86d48d03cd54d974310f3608b1ba4aa52b07',\n",
      "                   'fifo': 0,\n",
      "                   'haircut': 0,\n",
      "                   'poison': False,\n",
      "                   'seniority': 0.641232701380286}],\n",
      " 'edges': [{'from': 0, 'to': 5},\n",
      "           {'from': 0, 'to': 6},\n",
      "           {'from': 0, 'to': 8},\n",
      "           {'from': 1, 'to': 5},\n",
      "           {'from': 1, 'to': 7},\n",
      "           {'from': 2, 'to': 7},\n",
      "           {'from': 3, 'to': 7},\n",
      "           {'from': 4, 'to': 8}],\n",
      " 'nodes': [{'address': '0x2f86e77d4e577d32f5d1d51289f80cfc95b4f460',\n",
      "            'flagged': False},\n",
      "           {'address': '0x5a6e548d1b18f3826dc154df8ff87be0f49ba1f9',\n",
      "            'flagged': False},\n",
      "           {'address': '0xb16a310f518291a2661719a2b099a01b904f2d25',\n",
      "            'flagged': False},\n",
      "           {'address': '0x16e702864c5ecb63fff26b7417bbe34a1702497f',\n",
      "            'flagged': True},\n",
      "           {'address': '0x5a891155f50e42074374c739baadf7df2651153a',\n",
      "            'flagged': False},\n",
      "           {'address': '0x93db80284c8e4d2b0ee8586de2d072208c075145',\n",
      "            'flagged': False},\n",
      "           {'address': '0x7f802cd3882bff541234a8863239cada55a915ba',\n",
      "            'flagged': False},\n",
      "           {'address': '0xfe6287c91df3cca5ee077df41556bf5c3ac2d63f',\n",
      "            'flagged': False},\n",
      "           {'address': '0xf2df86d48d03cd54d974310f3608b1ba4aa52b07',\n",
      "            'flagged': False}]}\n"
     ]
    }
   ],
   "source": [
    "data = await get_cluster_with_blacklisting_data('0x2f86e77d4e577d32f5d1d51289f80cfc95b4f460')\n",
    "pprint(data)"
   ]
  },
  {
   "cell_type": "markdown",
   "metadata": {},
   "source": [
    "# Produce one final value!"
   ]
  },
  {
   "cell_type": "code",
   "execution_count": 28,
   "metadata": {},
   "outputs": [],
   "source": [
    "def cluster_taint_level(cluster: dict, exclude: list[str] = []):\n",
    "    \"\"\"\n",
    "    Calculates the taint level of a cluster.\n",
    "    \"\"\"\n",
    "    SENIORITY_WEIGHT = 0.5\n",
    "    POISON_WEIGHT = 0.25\n",
    "    HAIRCUT_WEIGHT = 0.125\n",
    "    FIFO_WEIGHT = 0.125\n",
    "\n",
    "    taint_level = 0\n",
    "    for node in cluster['blacklisting']:\n",
    "        if node['address'] in exclude:\n",
    "            continue\n",
    "        taint_level += node['seniority'] * SENIORITY_WEIGHT\n",
    "        taint_level += 1 * POISON_WEIGHT if node['poison'] else 0\n",
    "        taint_level += node['haircut'] * HAIRCUT_WEIGHT\n",
    "        taint_level += node['fifo'] * FIFO_WEIGHT\n",
    "    return taint_level\n",
    "\n",
    "def individual_taint_level(node: dict):\n",
    "    \"\"\"\n",
    "    Calculates the taint level of an individual node.\n",
    "    \"\"\"\n",
    "    SENIORITY_WEIGHT = 0.5\n",
    "    POISON_WEIGHT = 0.25\n",
    "    HAIRCUT_WEIGHT = 0.125\n",
    "    FIFO_WEIGHT = 0.125\n",
    "\n",
    "    taint_level = 0\n",
    "    taint_level += node['seniority'] * SENIORITY_WEIGHT\n",
    "    taint_level += 1 * POISON_WEIGHT if node['poison'] else 0\n",
    "    taint_level += node['haircut'] * HAIRCUT_WEIGHT\n",
    "    taint_level += node['fifo'] * FIFO_WEIGHT\n",
    "    return taint_level\n",
    "\n",
    "async def calculate_risk_level(address: str):\n",
    "    combined_cluster_data = await get_cluster_with_blacklisting_data(address)\n",
    "    if combined_cluster_data is None:\n",
    "        return None\n",
    "    cluster_taint = cluster_taint_level(combined_cluster_data, exclude=[address])\n",
    "\n",
    "    individual_data = {}\n",
    "    for node in combined_cluster_data['blacklisting']:\n",
    "        if node['address'] == address:\n",
    "            individual_data = node\n",
    "            break\n",
    "    individual_taint = individual_taint_level(individual_data)\n",
    "\n",
    "    INDIVIDUAL_WEIGHT = 0.8\n",
    "    CLUSTER_WEIGHT = 0.2\n",
    "    return {\n",
    "        \"cluster_taint\": cluster_taint,\n",
    "        \"individual_taint\": individual_taint,\n",
    "        \"risk_level\": cluster_taint * CLUSTER_WEIGHT + individual_taint * INDIVIDUAL_WEIGHT,\n",
    "    }\n",
    "    "
   ]
  },
  {
   "cell_type": "code",
   "execution_count": 29,
   "metadata": {},
   "outputs": [
    {
     "name": "stdout",
     "output_type": "stream",
     "text": [
      "{'cluster_taint': 4.533479200290964,\n",
      " 'individual_taint': 0.0,\n",
      " 'risk_level': 0.9066958400581928}\n"
     ]
    }
   ],
   "source": [
    "pprint(await calculate_risk_level('0x2f86e77d4e577d32f5d1d51289f80cfc95b4f460'))"
   ]
  }
 ],
 "metadata": {
  "kernelspec": {
   "display_name": "Python 3.10.4 64-bit",
   "language": "python",
   "name": "python3"
  },
  "language_info": {
   "codemirror_mode": {
    "name": "ipython",
    "version": 3
   },
   "file_extension": ".py",
   "mimetype": "text/x-python",
   "name": "python",
   "nbconvert_exporter": "python",
   "pygments_lexer": "ipython3",
   "version": "3.10.4"
  },
  "orig_nbformat": 4,
  "vscode": {
   "interpreter": {
    "hash": "916dbcbb3f70747c44a77c7bcd40155683ae19c65e1c03b4aa3499c5328201f1"
   }
  }
 },
 "nbformat": 4,
 "nbformat_minor": 2
}
