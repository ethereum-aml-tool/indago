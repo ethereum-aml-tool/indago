{
 "cells": [
  {
   "cell_type": "code",
   "execution_count": null,
   "metadata": {},
   "outputs": [],
   "source": [
    "import pandas as pd\n",
    "import numpy as np\n",
    "import seaborn as sns\n",
    "import matplotlib.pyplot as plt\n",
    "from tqdm import tqdm\n",
    "from pprint import pprint\n",
    "\n",
    "sen_df: pd.DataFrame = pd.read_csv('/media/ponbac/BigHDD/ethereum/blacklist/seniority/seniority-tornado-result.csv', index_col=0)\n",
    "poison_df: pd.DataFrame = pd.read_csv('/media/ponbac/BigHDD/ethereum/blacklist/poison/poison-tornado-result.csv', index_col=0)\n",
    "haircut_df: pd.DataFrame = pd.read_csv('/media/ponbac/BigHDD/ethereum/blacklist/haircut/haircut-tornado-result.csv', index_col=0)\n",
    "fifo_df: pd.DataFrame = pd.read_csv('/media/ponbac/BigHDD/ethereum/blacklist/fifo/fifo-tornado-result.csv', index_col=0)"
   ]
  },
  {
   "cell_type": "markdown",
   "metadata": {},
   "source": [
    "# Fetch blacklisting results"
   ]
  },
  {
   "cell_type": "code",
   "execution_count": null,
   "metadata": {},
   "outputs": [],
   "source": [
    "def get_seniority(address: str) -> float:\n",
    "    '''\n",
    "    Returns the seniority of an address.\n",
    "    '''\n",
    "    if address in seniority_df.index:\n",
    "        return seniority_df.loc[address]['seniority']\n",
    "    else:\n",
    "        return 0\n",
    "\n",
    "def get_poison(address: str) -> float:\n",
    "    '''\n",
    "    Returns the poison of an address.\n",
    "    '''\n",
    "    if address in poison_df.index:\n",
    "        return poison_df.loc[address]['poison']\n",
    "    else:\n",
    "        return 0\n",
    "\n",
    "def get_haircut(address: str) -> float:\n",
    "    '''\n",
    "    Returns the haircut of an address.\n",
    "    '''\n",
    "    if address in haircut_df.index:\n",
    "        return haircut_df.loc[address]['haircut']\n",
    "    else:\n",
    "        return 0\n",
    "\n",
    "def get_fifo(address: str) -> float:\n",
    "    '''\n",
    "    Returns the fifo of an address.\n",
    "    '''\n",
    "    if address in fifo_df.index:\n",
    "        return fifo_df.loc[address]['fifo']\n",
    "    else:\n",
    "        return 0"
   ]
  },
  {
   "cell_type": "markdown",
   "metadata": {},
   "source": [
    "# Fetch cluster results"
   ]
  },
  {
   "cell_type": "code",
   "execution_count": null,
   "metadata": {},
   "outputs": [],
   "source": [
    "pprint(\"CLUSTERING DA STUFF\")"
   ]
  },
  {
   "cell_type": "markdown",
   "metadata": {},
   "source": [
    "# Combine the two into different factors"
   ]
  },
  {
   "cell_type": "code",
   "execution_count": null,
   "metadata": {},
   "outputs": [],
   "source": [
    "pprint(\"Calcinack\")"
   ]
  },
  {
   "cell_type": "markdown",
   "metadata": {},
   "source": [
    "# Produce one final value!"
   ]
  },
  {
   "cell_type": "code",
   "execution_count": null,
   "metadata": {},
   "outputs": [],
   "source": [
    "pprint(\"42!\")"
   ]
  }
 ],
 "metadata": {
  "language_info": {
   "name": "python"
  },
  "orig_nbformat": 4
 },
 "nbformat": 4,
 "nbformat_minor": 2
}
