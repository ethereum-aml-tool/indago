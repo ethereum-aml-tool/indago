{
 "cells": [
  {
   "cell_type": "code",
   "execution_count": 1,
   "metadata": {},
   "outputs": [],
   "source": [
    "import pandas as pd\n",
    "\n",
    "sen_df: pd.DataFrame = pd.read_csv('/media/ponbac/BigHDD/ethereum/blacklist/seniority/seniority-tornado-result.csv', index_col=0)"
   ]
  },
  {
   "cell_type": "code",
   "execution_count": 2,
   "metadata": {},
   "outputs": [
    {
     "name": "stdout",
     "output_type": "stream",
     "text": [
      "INFO: 965,652 DAR graphs in collection\n",
      "INFO: Fetching 965,652 graphs, batch_size=50,000...\n"
     ]
    },
    {
     "name": "stderr",
     "output_type": "stream",
     "text": [
      "1050000it [01:41, 10376.19it/s]                           \n"
     ]
    },
    {
     "name": "stdout",
     "output_type": "stream",
     "text": [
      "DONE: 965,652 total nodes (addresses)\n",
      "STATS: average=5.55 nodes\n",
      "STATS: median=4.00 nodes\n",
      "STATS: min=3\n",
      "STATS: max=27,420\n",
      "STATS: standard deviation=39.00\n",
      "STATS: variance=1521.16\n",
      "\n",
      "---SENIORITY (TORNADO)---\n",
      "STATS: nodes cross found=342,981, percentage present=35.52%\n"
     ]
    }
   ],
   "source": [
    "from typing import Optional\n",
    "import numpy as np\n",
    "\n",
    "from tqdm import tqdm\n",
    "from pprint import pprint\n",
    "from db.mongo.database import IndagoSession\n",
    "from db.mongo.schemas import DARAddressMapping, DARGraph\n",
    "\n",
    "# MONGO\n",
    "db = IndagoSession\n",
    "dar_collection = db['dar']\n",
    "dar_map_collection = db['dar_map']\n",
    "\n",
    "\n",
    "def filter_exchange_nodes(nodes, edges) -> list[str]:\n",
    "    '''\n",
    "    Calculates non-exchange nodes from graph data.\n",
    "    '''\n",
    "    non_exchange_nodes = []\n",
    "    for edge in edges:\n",
    "        # print(edge)\n",
    "        non_exchange_nodes.append(nodes[edge[0]])\n",
    "\n",
    "    return set(non_exchange_nodes)\n",
    "\n",
    "\n",
    "async def process_graphs(batch_size: int = 10000, max_graphs: Optional[int] = None):\n",
    "    '''\n",
    "    Prints a bunch of statistics about the number of nodes in the DAR graphs.\n",
    "\n",
    "    returns: numpy.array with the number of nodes in each graph\n",
    "    '''\n",
    "    n_graphs = await dar_collection.count_documents({})\n",
    "    print(f'INFO: {n_graphs:,} DAR graphs in collection')\n",
    "    if max_graphs is None:\n",
    "        max_graphs = n_graphs\n",
    "\n",
    "    graphs = []\n",
    "    node_counts = []\n",
    "    successful_lookups = 0\n",
    "\n",
    "    i = 0\n",
    "    print(\n",
    "        f'INFO: Fetching {max_graphs:,} graphs, batch_size={batch_size:,}...')\n",
    "    pbar = tqdm(total=max_graphs)\n",
    "    while i * batch_size < max_graphs + batch_size:\n",
    "        cursor = dar_collection.find()\n",
    "        cursor.skip(i * batch_size)\n",
    "        for doc in await cursor.to_list(length=batch_size):\n",
    "            n_nodes = len(doc['nodes'])\n",
    "            node_counts.append(n_nodes)\n",
    "\n",
    "            for address in filter_exchange_nodes(doc['nodes'], doc['edges']):\n",
    "                try:\n",
    "                    row = sen_df.loc[address]\n",
    "                    #print(f'{row}')\n",
    "                    if row['taint'] > 0:\n",
    "                        successful_lookups += 1\n",
    "                    del row\n",
    "                    \n",
    "                except KeyError:\n",
    "                    pass\n",
    "\n",
    "        pbar.update(batch_size)\n",
    "        i += 1\n",
    "    pbar.close()\n",
    "\n",
    "    print(f'DONE: {len(node_counts):,} total nodes (addresses)')\n",
    "    print(f'STATS: average={(np.mean(node_counts)):.2f} nodes')\n",
    "    print(f'STATS: median={(np.median(node_counts)):.2f} nodes')\n",
    "    print(f'STATS: min={(np.min(node_counts))}')\n",
    "    print(f'STATS: max={(np.max(node_counts)):,}')\n",
    "    print(f'STATS: standard deviation={(np.std(node_counts)):.2f}')\n",
    "    print(f'STATS: variance={(np.var(node_counts)):.2f}')\n",
    "    print('\\n---SENIORITY (TORNADO)---')\n",
    "    print(\n",
    "        f'STATS: nodes cross found={successful_lookups:,}, percentage present={(successful_lookups / len(node_counts) * 100):.2f}%')\n",
    "\n",
    "    return np.array(node_counts)\n",
    "\n",
    "node_counts = await process_graphs(batch_size=50000, max_graphs=None)\n"
   ]
  },
  {
   "cell_type": "code",
   "execution_count": 4,
   "metadata": {},
   "outputs": [
    {
     "data": {
      "text/plain": [
       "Text(0.5, 1.0, 'Distribution of number of nodes in DAR graphs')"
      ]
     },
     "execution_count": 4,
     "metadata": {},
     "output_type": "execute_result"
    },
    {
     "data": {
      "image/png": "[encoded data removed]",
      "text/plain": [
       "<Figure size 1080x576 with 1 Axes>"
      ]
     },
     "metadata": {},
     "output_type": "display_data"
    }
   ],
   "source": [
    "import seaborn as sns\n",
    "import pandas as pd\n",
    "import numpy as np\n",
    "\n",
    "def reject_outliers(data, n_deviations=0.3):\n",
    "    mean = np.mean(data)\n",
    "    standard_deviation = np.std(data)\n",
    "    distance_from_mean = abs(data - mean)\n",
    "    not_outlier = distance_from_mean < n_deviations * standard_deviation\n",
    "    return data[not_outlier]\n",
    "\n",
    "sns.set_style(\"whitegrid\")\n",
    "sns.set(rc = {'figure.figsize':(15,8)})\n",
    "p = sns.histplot(data=reject_outliers(node_counts[:100000]), stat='percent')\n",
    "p.set_xlabel('Number of nodes/addresses in cluster', fontsize=16)\n",
    "p.set_ylabel('Percentage of graphs', fontsize=16)\n",
    "p.set_title('Distribution of number of nodes in DAR graphs', fontsize=16)\n"
   ]
  }
 ],
 "metadata": {
  "interpreter": {
   "hash": "916dbcbb3f70747c44a77c7bcd40155683ae19c65e1c03b4aa3499c5328201f1"
  },
  "kernelspec": {
   "display_name": "Python 3.9.7 64-bit",
   "language": "python",
   "name": "python3"
  },
  "language_info": {
   "codemirror_mode": {
    "name": "ipython",
    "version": 3
   },
   "file_extension": ".py",
   "mimetype": "text/x-python",
   "name": "python",
   "nbconvert_exporter": "python",
   "pygments_lexer": "ipython3",
   "version": "3.10.4"
  },
  "orig_nbformat": 4
 },
 "nbformat": 4,
 "nbformat_minor": 2
}
